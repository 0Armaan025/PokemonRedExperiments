{
 "cells": [
  {
   "cell_type": "code",
   "execution_count": 1,
   "metadata": {},
   "outputs": [],
   "source": [
    "import pandas as pd\n",
    "from pathlib import Path\n",
    "import matplotlib.pyplot as plt\n",
    "from PIL import Image\n",
    "from einops import rearrange\n",
    "import requests\n",
    "import io\n",
    "import json\n",
    "from tqdm import tqdm\n",
    "import mediapy as media\n",
    "import jax\n",
    "import numpy as np"
   ]
  },
  {
   "cell_type": "code",
   "execution_count": 15,
   "metadata": {},
   "outputs": [],
   "source": [
    "run_dir = Path('mini_agent_stats') # Path('baselines/session_ebdfe818')\n",
    "# original session_e41c9eff, main session_4da05e87, extra session_e1b6d2dc"
   ]
  },
  {
   "cell_type": "code",
   "execution_count": 16,
   "metadata": {},
   "outputs": [
    {
     "name": "stderr",
     "output_type": "stream",
     "text": [
      "5it [01:31, 18.33s/it]\n"
     ]
    }
   ],
   "source": [
    "dfs = []\n",
    "for run in tqdm(run_dir.glob('*.gz')):\n",
    "    tdf = pd.read_csv(run, compression='gzip')\n",
    "    dfs.append(tdf[tdf['map'] != 'map'])"
   ]
  },
  {
   "cell_type": "code",
   "execution_count": 8,
   "metadata": {},
   "outputs": [
    {
     "data": {
      "text/plain": [
       "array([2, 3])"
      ]
     },
     "execution_count": 8,
     "metadata": {},
     "output_type": "execute_result"
    }
   ],
   "source": [
    "np.array([2,3])"
   ]
  },
  {
   "cell_type": "code",
   "execution_count": 5,
   "metadata": {},
   "outputs": [
    {
     "data": {
      "text/plain": [
       "array([0.  , 0.25, 0.5 , 0.75])"
      ]
     },
     "execution_count": 5,
     "metadata": {},
     "output_type": "execute_result"
    }
   ],
   "source": [
    "np.arange(0,1,0.25)"
   ]
  },
  {
   "cell_type": "code",
   "execution_count": 6,
   "metadata": {},
   "outputs": [
    {
     "data": {
      "text/plain": [
       "array([0.        , 0.33333333, 0.66666667, 1.        ])"
      ]
     },
     "execution_count": 6,
     "metadata": {},
     "output_type": "execute_result"
    }
   ],
   "source": [
    "np.linspace(0,1,4)"
   ]
  },
  {
   "cell_type": "code",
   "execution_count": 17,
   "metadata": {},
   "outputs": [],
   "source": [
    "poke_id_to_name = {\n",
    "    177: \"Squirtle\",\n",
    "    255: \"None\",\n",
    "    0: \"None\",\n",
    "    165: \"Rattata\",\n",
    "    36: \"Pidgey\",\n",
    "    179: \"Wartortle\",\n",
    "    150: \"Pidgeotto\",\n",
    "    112: \"Weedle\",\n",
    "    113: \"Kakuna\",\n",
    "    133: \"Magikarp\",\n",
    "    169: \"Geodude\",\n",
    "    107: \"Zubat\",\n",
    "    109: \"Paras\",\n",
    "    100: \"Jigglypuff\",\n",
    "    84: \"Pikachu\",\n",
    "    124: \"Metapod\",\n",
    "    4: \"Clefairy\"\n",
    "}"
   ]
  },
  {
   "cell_type": "code",
   "execution_count": null,
   "metadata": {},
   "outputs": [],
   "source": [
    "# find time spent holding each pokemon\n",
    "all_poke_counts = []\n",
    "for df in dfs:\n",
    "    size = len(df)\n",
    "    count = 0\n",
    "    cur_run_idx = 0\n",
    "    for step in tqdm(df['ptypes']):\n",
    "        run_idx = count // size\n",
    "        if run_idx == cur_run_idx:\n",
    "            cur_run = set()\n",
    "            cur_run_idx += 1\n",
    "        \n",
    "        pokes = json.loads(step)\n",
    "        for p in pokes:\n",
    "            pname = poke_id_to_name[p]\n",
    "            cur_run.add(pname)\n",
    "        count += 1\n",
    "        "
   ]
  },
  {
   "cell_type": "code",
   "execution_count": 20,
   "metadata": {},
   "outputs": [
    {
     "data": {
      "text/plain": [
       "16385.0"
      ]
     },
     "execution_count": 20,
     "metadata": {},
     "output_type": "execute_result"
    }
   ],
   "source": [
    "len(dfs[0])/610"
   ]
  },
  {
   "cell_type": "code",
   "execution_count": 25,
   "metadata": {},
   "outputs": [
    {
     "data": {
      "text/plain": [
       "1"
      ]
     },
     "execution_count": 25,
     "metadata": {},
     "output_type": "execute_result"
    }
   ],
   "source": [
    "(2*16385-1) // 16385"
   ]
  },
  {
   "cell_type": "code",
   "execution_count": 26,
   "metadata": {},
   "outputs": [
    {
     "data": {
      "text/plain": [
       "Index(['Unnamed: 0', 'step', 'x', 'y', 'map', 'pcount', 'levels', 'ptypes',\n",
       "       'hp', 'frames', 'deaths', 'badge', 'event', 'healr'],\n",
       "      dtype='object')"
      ]
     },
     "execution_count": 26,
     "metadata": {},
     "output_type": "execute_result"
    }
   ],
   "source": [
    "dfs[0].keys()"
   ]
  },
  {
   "cell_type": "code",
   "execution_count": null,
   "metadata": {},
   "outputs": [],
   "source": []
  }
 ],
 "metadata": {
  "kernelspec": {
   "display_name": "Python 3",
   "language": "python",
   "name": "python3"
  },
  "language_info": {
   "codemirror_mode": {
    "name": "ipython",
    "version": 3
   },
   "file_extension": ".py",
   "mimetype": "text/x-python",
   "name": "python",
   "nbconvert_exporter": "python",
   "pygments_lexer": "ipython3",
   "version": "3.9.0"
  }
 },
 "nbformat": 4,
 "nbformat_minor": 4
}
