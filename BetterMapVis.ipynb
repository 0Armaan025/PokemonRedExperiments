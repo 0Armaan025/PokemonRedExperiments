{
 "cells": [
  {
   "cell_type": "code",
   "execution_count": 1,
   "metadata": {},
   "outputs": [],
   "source": [
    "import pandas as pd\n",
    "from pathlib import Path\n",
    "import matplotlib.pyplot as plt\n",
    "from PIL import Image\n",
    "from einops import rearrange\n",
    "import requests\n",
    "import io\n",
    "import json\n",
    "from tqdm import tqdm\n",
    "import mediapy as media\n",
    "import jax\n",
    "import numpy as np"
   ]
  },
  {
   "cell_type": "code",
   "execution_count": 2,
   "metadata": {},
   "outputs": [],
   "source": [
    "#!ls -lt baselines"
   ]
  },
  {
   "cell_type": "code",
   "execution_count": 3,
   "metadata": {},
   "outputs": [],
   "source": [
    "run_dir = Path('baselines/mini_agent_stats') # Path('baselines/session_ebdfe818')\n",
    "# original session_e41c9eff, main session_4da05e87, extra session_e1b6d2dc"
   ]
  },
  {
   "cell_type": "code",
   "execution_count": 4,
   "metadata": {},
   "outputs": [
    {
     "name": "stderr",
     "output_type": "stream",
     "text": [
      "5it [01:40, 20.07s/it]\n"
     ]
    }
   ],
   "source": [
    "dfs = []\n",
    "for run in tqdm(run_dir.glob('*.gz')):\n",
    "    tdf = pd.read_csv(run, compression='gzip')\n",
    "    dfs.append(tdf[tdf['map'] != 'map'])"
   ]
  },
  {
   "cell_type": "code",
   "execution_count": 5,
   "metadata": {},
   "outputs": [],
   "source": [
    "def make_all_coords_arrays(filtered_dfs):\n",
    "    return np.stack([tdf[['x', 'y', 'map']].to_numpy().astype(np.uint8) for tdf in filtered_dfs]).transpose(1,0,2)"
   ]
  },
  {
   "cell_type": "code",
   "execution_count": 6,
   "metadata": {},
   "outputs": [],
   "source": [
    "def load_tex(name):\n",
    "    resp = requests.get(sprites[name])\n",
    "    return np.array(Image.open(io.BytesIO(resp.content)))"
   ]
  },
  {
   "cell_type": "code",
   "execution_count": 7,
   "metadata": {},
   "outputs": [],
   "source": [
    "def get_sprite_by_coords(img, x, y):\n",
    "    sy = 34+17*y\n",
    "    sx = 9 +17*x\n",
    "    alpha_v = np.array([255, 127,  39, 255], dtype=np.uint8)\n",
    "    sprite = img[sy:sy+16, sx:sx+16]\n",
    "    return np.where((sprite == alpha_v).all(axis=2).reshape(16,16,1), np.array([[[0,0,0,0]]]), sprite).astype(np.uint8)\n"
   ]
  },
  {
   "cell_type": "code",
   "execution_count": 8,
   "metadata": {},
   "outputs": [],
   "source": [
    "def add_sprite(overlay_map, sprite, x, y, map_idx, \n",
    "               x_inter=0, y_inter=0, \n",
    "               opacity=1.0, add=True):\n",
    "    global_offset = np.array([1062-16*24, 338]) #np.array([790, -29])\n",
    "    map_offsets = {\n",
    "        # https://bulbapedia.bulbagarden.net/wiki/List_of_locations_by_index_number_(Generation_I)\n",
    "        0: np.array([0,0]), # pallet town\n",
    "        1: np.array([-10, 72]), # viridian\n",
    "        2: np.array([-10, 180]), # pewter\n",
    "        12: np.array([0, 36]), # route 1\n",
    "        13: np.array([0, 144]), # route 2\n",
    "        37: np.array([9+12, 150-150]), # red house first\n",
    "        38: np.array([16+12, 150-150]), # red house second\n",
    "        39: np.array([9+12, 140-150]), # blues house\n",
    "        40: np.array([25+12, 150-150]), # oaks lab\n",
    "        51: np.array([22, 123]) # viridian forest\n",
    "    }\n",
    "    if map_idx in map_offsets.keys():\n",
    "        offset = map_offsets[map_idx]\n",
    "    else:\n",
    "        offset = np.array([0,0])\n",
    "        x, y = 0, 0\n",
    "    coord = global_offset + 16*(offset + np.array([x,y])) + np.array([x_inter, y_inter])\n",
    "    coord[1] = overlay_map.shape[0] - coord[1]\n",
    "    raw_base = (overlay_map[coord[1]:coord[1]+16, coord[0]:coord[0]+16, :])\n",
    "    if add:\n",
    "        base = raw_base.astype(np.float32)\n",
    "        new = opacity*sprite.astype(np.float32)\n",
    "        intermediate = (base + new).clip(0, 255).astype(np.uint8)\n",
    "    else:\n",
    "        intermediate = raw_base\n",
    "        mask = sprite[:, :, 3] != 0\n",
    "        if (mask.shape != intermediate[:,:,0].shape):\n",
    "            #print(f'requested coords: {coord[1]}-{coord[1]+16}, {coord[0]}-{coord[0]+16}')\n",
    "            #print(f'overlay_map.shape {overlay_map.shape}')\n",
    "            #print(f'mask.shape {mask.shape} intermediate[:,:,0].shape {intermediate[:,:,0].shape}')\n",
    "            #print(f'x {x} y {y} map {map_idx}')\n",
    "            return {'coords': coord, 'x': x, 'y': y, 'map': map_idx}\n",
    "        else:\n",
    "            intermediate[mask] = sprite[mask]\n",
    "    overlay_map[coord[1]:coord[1]+16, coord[0]:coord[0]+16, :] = intermediate"
   ]
  },
  {
   "cell_type": "code",
   "execution_count": 9,
   "metadata": {},
   "outputs": [],
   "source": [
    "def blend_overlay(background, over):\n",
    "    al = over[...,3].reshape(over.shape[0], over.shape[1], 1)\n",
    "    ba = (255-al)/255\n",
    "    oa = al/255\n",
    "    return (background[..., :3]*ba + over[..., :3]*oa).astype(np.uint8)"
   ]
  },
  {
   "cell_type": "code",
   "execution_count": 10,
   "metadata": {},
   "outputs": [],
   "source": [
    "def render_coords(coords, over):\n",
    "    for x,y,mp in coords:\n",
    "        add_sprite(over, walks[0], int(x), -int(y), mp, add=False)"
   ]
  },
  {
   "cell_type": "code",
   "execution_count": 11,
   "metadata": {},
   "outputs": [],
   "source": [
    "def split(img):\n",
    "    return rearrange(img, '(s y) x c -> y (s x) c', s=2)"
   ]
  },
  {
   "cell_type": "code",
   "execution_count": 29,
   "metadata": {},
   "outputs": [],
   "source": [
    "def render_video(all_coords, bg, inter_steps=4, fade_freq=1, fade_amt=1, add_frames=True):\n",
    "    over = np.zeros_like(bg, dtype=np.uint8)\n",
    "    debug = False\n",
    "    errors = []\n",
    "    sprites_rendered = 0\n",
    "    with media.VideoWriter('test_out_short.mp4', split(bg[800:3970, 500:1600]).shape[:2], fps=60) as wr:\n",
    "        step_count = len(all_coords)\n",
    "        directions = [0] * len(all_coords[0])\n",
    "        pbar = tqdm(range(1, step_count))\n",
    "        for idx in pbar:\n",
    "            step = all_coords[idx]\n",
    "            prev_step = all_coords[idx-1]\n",
    "            if debug:\n",
    "                print('-- step --')\n",
    "            inter_size = 16//inter_steps\n",
    "            for inter_step in np.arange(inter_size, 16+inter_size, inter_size, dtype=np.int):\n",
    "                over[...] = 0\n",
    "                for run in range(len(step)):\n",
    "                    cur = step[run]\n",
    "                    prev = prev_step[run]\n",
    "                    # cast to regular int from uint8\n",
    "                    cx, cy, px, py = map(int, [cur[0], cur[1], prev[0], prev[1]])\n",
    "                    dx = min(max(cx - px, -1), 1)\n",
    "                    dy = -1*min(max(cy - py, -1), 1)\n",
    "                    if debug:\n",
    "                        print(f'x: {cx} y: {cy} dx: {dx} dy: {dy}')\n",
    "                    # only change direction if not moving between maps\n",
    "                    if cur[2] == prev[2]:\n",
    "                        if dx > 0:\n",
    "                            directions[run] = 3\n",
    "                        elif dx < 0:\n",
    "                            directions[run] = 2\n",
    "                        elif dy > 0:\n",
    "                            directions[run] = 1\n",
    "                        elif dy < 0:\n",
    "                            directions[run] = 0\n",
    "                    error = add_sprite(over, walks[directions[run]], \n",
    "                               px, -py, cur[2], \n",
    "                               x_inter=inter_step*dx, y_inter=inter_step*dy, \n",
    "                               add=add_frames)\n",
    "                    if error is not None:\n",
    "                        errors.append(error)\n",
    "                    else:\n",
    "                        sprites_rendered += 1\n",
    "                #wr.add_image(split(blend_overlay(bg[800:3970, 500:1600], over[800:3970, 500:1600])))\n",
    "                win = over[800:3970, 500:1600]\n",
    "                alpha_keyed = win[:,:,:3][win[:,:,3] == 0] = np.array([250,250,10])\n",
    "                wr.add_image(split(over[800:3970, 500:1600][:,:,:3]))\n",
    "                perc = len(errors) / (sprites_rendered + len(errors))\n",
    "                pbar.set_description(f\"draws: {sprites_rendered} errors: {len(errors)}, {perc:.2%}\")\n",
    "                #if idx % fade_freq == 0:\n",
    "                    # need to check that we don't fade more than needed\n",
    "                #    over[over >= fade_amt] -= fade_amt\n",
    "                #    over[over < fade_amt] = 0\n",
    "    return errors"
   ]
  },
  {
   "cell_type": "code",
   "execution_count": 13,
   "metadata": {},
   "outputs": [
    {
     "data": {
      "text/plain": [
       "array([ 4,  8, 12, 16])"
      ]
     },
     "execution_count": 13,
     "metadata": {},
     "output_type": "execute_result"
    }
   ],
   "source": [
    "n = 4\n",
    "sp_n = 16//n\n",
    "np.arange(sp_n, 16+sp_n, sp_n, dtype=np.int)"
   ]
  },
  {
   "cell_type": "code",
   "execution_count": 14,
   "metadata": {},
   "outputs": [],
   "source": [
    "#sprites = {\n",
    "#    'characters': 'https://www.spriters-resource.com/resources/sheets/8/8728.png',\n",
    "#    0: 'https://www.spriters-resource.com/resources/sheets/52/55181.png'\n",
    "#}\n",
    "main_map = np.array(Image.open('temp/RoughMap.png'))\n",
    "chars_img = np.array(Image.open('poke_map/characters.png'))\n",
    "alpha_val = get_sprite_by_coords(chars_img, 1, 0)[0,0]\n",
    "walks = [get_sprite_by_coords(chars_img, x, 0) for x in [1, 4, 6, 8]]"
   ]
  },
  {
   "cell_type": "code",
   "execution_count": 15,
   "metadata": {},
   "outputs": [],
   "source": [
    "base_coords = make_all_coords_arrays(dfs)"
   ]
  },
  {
   "cell_type": "code",
   "execution_count": 16,
   "metadata": {},
   "outputs": [
    {
     "data": {
      "text/plain": [
       "(9994850, 5, 3)"
      ]
     },
     "execution_count": 16,
     "metadata": {},
     "output_type": "execute_result"
    }
   ],
   "source": [
    "base_coords.shape"
   ]
  },
  {
   "cell_type": "code",
   "execution_count": 17,
   "metadata": {},
   "outputs": [
    {
     "data": {
      "text/plain": [
       "(16385, 3050, 3)"
      ]
     },
     "execution_count": 17,
     "metadata": {},
     "output_type": "execute_result"
    }
   ],
   "source": [
    "# fold over some runs on top of each other\n",
    "rearrange(base_coords, '(v s) r c -> s (r v) c', v=610).shape"
   ]
  },
  {
   "cell_type": "code",
   "execution_count": 18,
   "metadata": {},
   "outputs": [],
   "source": [
    "start_bg = main_map.copy()*0+255"
   ]
  },
  {
   "cell_type": "code",
   "execution_count": 30,
   "metadata": {
    "scrolled": true
   },
   "outputs": [
    {
     "name": "stderr",
     "output_type": "stream",
     "text": [
      "draws: 707496 errors: 104, 0.01%:   1%|▏         | 14/999 [01:06<1:17:46,  4.74s/it]\n"
     ]
    },
    {
     "ename": "RuntimeError",
     "evalue": "Error writing 'test_out_short.mp4': ",
     "output_type": "error",
     "traceback": [
      "\u001b[0;31m---------------------------------------------------------------------------\u001b[0m",
      "\u001b[0;31mKeyboardInterrupt\u001b[0m                         Traceback (most recent call last)",
      "\u001b[0;32m<ipython-input-29-9bb519a55321>\u001b[0m in \u001b[0;36mrender_video\u001b[0;34m(all_coords, bg, inter_steps, fade_freq, fade_amt, add_frames)\u001b[0m\n\u001b[1;32m     36\u001b[0m                             \u001b[0mdirections\u001b[0m\u001b[0;34m[\u001b[0m\u001b[0mrun\u001b[0m\u001b[0;34m]\u001b[0m \u001b[0;34m=\u001b[0m \u001b[0;36m0\u001b[0m\u001b[0;34m\u001b[0m\u001b[0;34m\u001b[0m\u001b[0m\n\u001b[0;32m---> 37\u001b[0;31m                     error = add_sprite(over, walks[directions[run]], \n\u001b[0m\u001b[1;32m     38\u001b[0m                                \u001b[0mpx\u001b[0m\u001b[0;34m,\u001b[0m \u001b[0;34m-\u001b[0m\u001b[0mpy\u001b[0m\u001b[0;34m,\u001b[0m \u001b[0mcur\u001b[0m\u001b[0;34m[\u001b[0m\u001b[0;36m2\u001b[0m\u001b[0;34m]\u001b[0m\u001b[0;34m,\u001b[0m\u001b[0;34m\u001b[0m\u001b[0;34m\u001b[0m\u001b[0m\n",
      "\u001b[0;32m<ipython-input-8-89bf362a0948>\u001b[0m in \u001b[0;36madd_sprite\u001b[0;34m(overlay_map, sprite, x, y, map_idx, x_inter, y_inter, opacity, add)\u001b[0m\n\u001b[1;32m     39\u001b[0m         \u001b[0;32melse\u001b[0m\u001b[0;34m:\u001b[0m\u001b[0;34m\u001b[0m\u001b[0;34m\u001b[0m\u001b[0m\n\u001b[0;32m---> 40\u001b[0;31m             \u001b[0mintermediate\u001b[0m\u001b[0;34m[\u001b[0m\u001b[0mmask\u001b[0m\u001b[0;34m]\u001b[0m \u001b[0;34m=\u001b[0m \u001b[0msprite\u001b[0m\u001b[0;34m[\u001b[0m\u001b[0mmask\u001b[0m\u001b[0;34m]\u001b[0m\u001b[0;34m\u001b[0m\u001b[0;34m\u001b[0m\u001b[0m\n\u001b[0m\u001b[1;32m     41\u001b[0m     \u001b[0moverlay_map\u001b[0m\u001b[0;34m[\u001b[0m\u001b[0mcoord\u001b[0m\u001b[0;34m[\u001b[0m\u001b[0;36m1\u001b[0m\u001b[0;34m]\u001b[0m\u001b[0;34m:\u001b[0m\u001b[0mcoord\u001b[0m\u001b[0;34m[\u001b[0m\u001b[0;36m1\u001b[0m\u001b[0;34m]\u001b[0m\u001b[0;34m+\u001b[0m\u001b[0;36m16\u001b[0m\u001b[0;34m,\u001b[0m \u001b[0mcoord\u001b[0m\u001b[0;34m[\u001b[0m\u001b[0;36m0\u001b[0m\u001b[0;34m]\u001b[0m\u001b[0;34m:\u001b[0m\u001b[0mcoord\u001b[0m\u001b[0;34m[\u001b[0m\u001b[0;36m0\u001b[0m\u001b[0;34m]\u001b[0m\u001b[0;34m+\u001b[0m\u001b[0;36m16\u001b[0m\u001b[0;34m,\u001b[0m \u001b[0;34m:\u001b[0m\u001b[0;34m]\u001b[0m \u001b[0;34m=\u001b[0m \u001b[0mintermediate\u001b[0m\u001b[0;34m\u001b[0m\u001b[0;34m\u001b[0m\u001b[0m\n",
      "\u001b[0;31mKeyboardInterrupt\u001b[0m: ",
      "\nDuring handling of the above exception, another exception occurred:\n",
      "\u001b[0;31mRuntimeError\u001b[0m                              Traceback (most recent call last)",
      "\u001b[0;32m<ipython-input-30-585cacee5d18>\u001b[0m in \u001b[0;36m<module>\u001b[0;34m\u001b[0m\n\u001b[0;32m----> 1\u001b[0;31m render_errs = render_video(\n\u001b[0m\u001b[1;32m      2\u001b[0m     \u001b[0mrearrange\u001b[0m\u001b[0;34m(\u001b[0m\u001b[0mbase_coords\u001b[0m\u001b[0;34m,\u001b[0m \u001b[0;34m'(v s) r c -> s (r v) c'\u001b[0m\u001b[0;34m,\u001b[0m \u001b[0mv\u001b[0m\u001b[0;34m=\u001b[0m\u001b[0;36m610\u001b[0m\u001b[0;34m)\u001b[0m\u001b[0;34m[\u001b[0m\u001b[0;36m4000\u001b[0m\u001b[0;34m:\u001b[0m\u001b[0;36m5000\u001b[0m\u001b[0;34m]\u001b[0m\u001b[0;34m,\u001b[0m\u001b[0;34m\u001b[0m\u001b[0;34m\u001b[0m\u001b[0m\n\u001b[1;32m      3\u001b[0m     \u001b[0mstart_bg\u001b[0m\u001b[0;34m,\u001b[0m \u001b[0minter_steps\u001b[0m\u001b[0;34m=\u001b[0m\u001b[0;36m16\u001b[0m\u001b[0;34m,\u001b[0m\u001b[0;34m\u001b[0m\u001b[0;34m\u001b[0m\u001b[0m\n\u001b[1;32m      4\u001b[0m     \u001b[0mfade_freq\u001b[0m\u001b[0;34m=\u001b[0m\u001b[0;36m1\u001b[0m\u001b[0;34m,\u001b[0m \u001b[0mfade_amt\u001b[0m\u001b[0;34m=\u001b[0m\u001b[0;36m8\u001b[0m\u001b[0;34m,\u001b[0m \u001b[0madd_frames\u001b[0m\u001b[0;34m=\u001b[0m\u001b[0;32mFalse\u001b[0m\u001b[0;34m\u001b[0m\u001b[0;34m\u001b[0m\u001b[0m\n\u001b[1;32m      5\u001b[0m )\n",
      "\u001b[0;32m<ipython-input-29-9bb519a55321>\u001b[0m in \u001b[0;36mrender_video\u001b[0;34m(all_coords, bg, inter_steps, fade_freq, fade_amt, add_frames)\u001b[0m\n\u001b[1;32m     48\u001b[0m                 \u001b[0mwr\u001b[0m\u001b[0;34m.\u001b[0m\u001b[0madd_image\u001b[0m\u001b[0;34m(\u001b[0m\u001b[0msplit\u001b[0m\u001b[0;34m(\u001b[0m\u001b[0mover\u001b[0m\u001b[0;34m[\u001b[0m\u001b[0;36m800\u001b[0m\u001b[0;34m:\u001b[0m\u001b[0;36m3970\u001b[0m\u001b[0;34m,\u001b[0m \u001b[0;36m500\u001b[0m\u001b[0;34m:\u001b[0m\u001b[0;36m1600\u001b[0m\u001b[0;34m]\u001b[0m\u001b[0;34m[\u001b[0m\u001b[0;34m:\u001b[0m\u001b[0;34m,\u001b[0m\u001b[0;34m:\u001b[0m\u001b[0;34m,\u001b[0m\u001b[0;34m:\u001b[0m\u001b[0;36m3\u001b[0m\u001b[0;34m]\u001b[0m\u001b[0;34m)\u001b[0m\u001b[0;34m)\u001b[0m\u001b[0;34m\u001b[0m\u001b[0;34m\u001b[0m\u001b[0m\n\u001b[1;32m     49\u001b[0m                 \u001b[0mperc\u001b[0m \u001b[0;34m=\u001b[0m \u001b[0mlen\u001b[0m\u001b[0;34m(\u001b[0m\u001b[0merrors\u001b[0m\u001b[0;34m)\u001b[0m \u001b[0;34m/\u001b[0m \u001b[0;34m(\u001b[0m\u001b[0msprites_rendered\u001b[0m \u001b[0;34m+\u001b[0m \u001b[0mlen\u001b[0m\u001b[0;34m(\u001b[0m\u001b[0merrors\u001b[0m\u001b[0;34m)\u001b[0m\u001b[0;34m)\u001b[0m\u001b[0;34m\u001b[0m\u001b[0;34m\u001b[0m\u001b[0m\n\u001b[0;32m---> 50\u001b[0;31m                 \u001b[0mpbar\u001b[0m\u001b[0;34m.\u001b[0m\u001b[0mset_description\u001b[0m\u001b[0;34m(\u001b[0m\u001b[0;34mf\"draws: {sprites_rendered} errors: {len(errors)}, {perc:.2%}\"\u001b[0m\u001b[0;34m)\u001b[0m\u001b[0;34m\u001b[0m\u001b[0;34m\u001b[0m\u001b[0m\n\u001b[0m\u001b[1;32m     51\u001b[0m                 \u001b[0;31m#if idx % fade_freq == 0:\u001b[0m\u001b[0;34m\u001b[0m\u001b[0;34m\u001b[0m\u001b[0;34m\u001b[0m\u001b[0m\n\u001b[1;32m     52\u001b[0m                     \u001b[0;31m# need to check that we don't fade more than needed\u001b[0m\u001b[0;34m\u001b[0m\u001b[0;34m\u001b[0m\u001b[0;34m\u001b[0m\u001b[0m\n",
      "\u001b[0;32m~/anaconda3/envs/pt/lib/python3.9/site-packages/mediapy/__init__.py\u001b[0m in \u001b[0;36m__exit__\u001b[0;34m(self, *_)\u001b[0m\n\u001b[1;32m   1347\u001b[0m \u001b[0;34m\u001b[0m\u001b[0m\n\u001b[1;32m   1348\u001b[0m   \u001b[0;32mdef\u001b[0m \u001b[0m__exit__\u001b[0m\u001b[0;34m(\u001b[0m\u001b[0mself\u001b[0m\u001b[0;34m,\u001b[0m \u001b[0;34m*\u001b[0m\u001b[0m_\u001b[0m\u001b[0;34m:\u001b[0m \u001b[0mAny\u001b[0m\u001b[0;34m)\u001b[0m \u001b[0;34m->\u001b[0m \u001b[0;32mNone\u001b[0m\u001b[0;34m:\u001b[0m\u001b[0;34m\u001b[0m\u001b[0;34m\u001b[0m\u001b[0m\n\u001b[0;32m-> 1349\u001b[0;31m     \u001b[0mself\u001b[0m\u001b[0;34m.\u001b[0m\u001b[0mclose\u001b[0m\u001b[0;34m(\u001b[0m\u001b[0;34m)\u001b[0m\u001b[0;34m\u001b[0m\u001b[0;34m\u001b[0m\u001b[0m\n\u001b[0m\u001b[1;32m   1350\u001b[0m \u001b[0;34m\u001b[0m\u001b[0m\n\u001b[1;32m   1351\u001b[0m   \u001b[0;32mdef\u001b[0m \u001b[0madd_image\u001b[0m\u001b[0;34m(\u001b[0m\u001b[0mself\u001b[0m\u001b[0;34m,\u001b[0m \u001b[0mimage\u001b[0m\u001b[0;34m:\u001b[0m \u001b[0mnp\u001b[0m\u001b[0;34m.\u001b[0m\u001b[0mndarray\u001b[0m\u001b[0;34m)\u001b[0m \u001b[0;34m->\u001b[0m \u001b[0;32mNone\u001b[0m\u001b[0;34m:\u001b[0m\u001b[0;34m\u001b[0m\u001b[0;34m\u001b[0m\u001b[0m\n",
      "\u001b[0;32m~/anaconda3/envs/pt/lib/python3.9/site-packages/mediapy/__init__.py\u001b[0m in \u001b[0;36mclose\u001b[0;34m(self)\u001b[0m\n\u001b[1;32m   1396\u001b[0m       \u001b[0;32mif\u001b[0m \u001b[0mself\u001b[0m\u001b[0;34m.\u001b[0m\u001b[0m_proc\u001b[0m\u001b[0;34m.\u001b[0m\u001b[0mwait\u001b[0m\u001b[0;34m(\u001b[0m\u001b[0;34m)\u001b[0m\u001b[0;34m:\u001b[0m\u001b[0;34m\u001b[0m\u001b[0;34m\u001b[0m\u001b[0m\n\u001b[1;32m   1397\u001b[0m         \u001b[0ms\u001b[0m \u001b[0;34m=\u001b[0m \u001b[0mself\u001b[0m\u001b[0;34m.\u001b[0m\u001b[0m_proc\u001b[0m\u001b[0;34m.\u001b[0m\u001b[0mstderr\u001b[0m\u001b[0;34m.\u001b[0m\u001b[0mread\u001b[0m\u001b[0;34m(\u001b[0m\u001b[0;34m)\u001b[0m\u001b[0;34m.\u001b[0m\u001b[0mdecode\u001b[0m\u001b[0;34m(\u001b[0m\u001b[0;34m)\u001b[0m\u001b[0;34m\u001b[0m\u001b[0;34m\u001b[0m\u001b[0m\n\u001b[0;32m-> 1398\u001b[0;31m         \u001b[0;32mraise\u001b[0m \u001b[0mRuntimeError\u001b[0m\u001b[0;34m(\u001b[0m\u001b[0;34mf\"Error writing '{self.path}': {s}\"\u001b[0m\u001b[0;34m)\u001b[0m\u001b[0;34m\u001b[0m\u001b[0;34m\u001b[0m\u001b[0m\n\u001b[0m\u001b[1;32m   1399\u001b[0m       \u001b[0mself\u001b[0m\u001b[0;34m.\u001b[0m\u001b[0m_popen\u001b[0m\u001b[0;34m.\u001b[0m\u001b[0m__exit__\u001b[0m\u001b[0;34m(\u001b[0m\u001b[0;32mNone\u001b[0m\u001b[0;34m,\u001b[0m \u001b[0;32mNone\u001b[0m\u001b[0;34m,\u001b[0m \u001b[0;32mNone\u001b[0m\u001b[0;34m)\u001b[0m\u001b[0;34m\u001b[0m\u001b[0;34m\u001b[0m\u001b[0m\n\u001b[1;32m   1400\u001b[0m       \u001b[0mself\u001b[0m\u001b[0;34m.\u001b[0m\u001b[0m_popen\u001b[0m \u001b[0;34m=\u001b[0m \u001b[0;32mNone\u001b[0m\u001b[0;34m\u001b[0m\u001b[0;34m\u001b[0m\u001b[0m\n",
      "\u001b[0;31mRuntimeError\u001b[0m: Error writing 'test_out_short.mp4': "
     ]
    }
   ],
   "source": [
    "render_errs = render_video(\n",
    "    rearrange(base_coords, '(v s) r c -> s (r v) c', v=610)[4000:5000],\n",
    "    start_bg, inter_steps=16,\n",
    "    fade_freq=1, fade_amt=8, add_frames=False\n",
    ")\n"
   ]
  },
  {
   "cell_type": "code",
   "execution_count": 422,
   "metadata": {},
   "outputs": [
    {
     "data": {
      "text/plain": [
       "(4000, 4000, 4)"
      ]
     },
     "execution_count": 422,
     "metadata": {},
     "output_type": "execute_result"
    }
   ],
   "source": [
    "start_bg.shape"
   ]
  },
  {
   "cell_type": "code",
   "execution_count": 635,
   "metadata": {
    "scrolled": true
   },
   "outputs": [
    {
     "data": {
      "text/plain": [
       "<matplotlib.image.AxesImage at 0x7fb433977af0>"
      ]
     },
     "execution_count": 635,
     "metadata": {},
     "output_type": "execute_result"
    },
    {
     "data": {
      "image/png": "[encoded data removed]",
      "text/plain": [
       "<Figure size 1440x1440 with 1 Axes>"
      ]
     },
     "metadata": {
      "needs_background": "light"
     },
     "output_type": "display_data"
    }
   ],
   "source": [
    "overlay = np.zeros_like(start_bg, dtype=np.uint8)\n",
    "render_coords(base_coords[:500, 0], overlay)\n",
    "plt.figure(figsize = (20,20))\n",
    "img_full = blend_overlay(start_bg, overlay)#[800:3970, 500:1600]\n",
    "plt.imshow(img_full)"
   ]
  },
  {
   "cell_type": "code",
   "execution_count": 262,
   "metadata": {},
   "outputs": [
    {
     "name": "stderr",
     "output_type": "stream",
     "text": [
      "100%|██████████| 9994850/9994850 [00:43<00:00, 230918.41it/s]\n",
      "100%|██████████| 9994850/9994850 [00:43<00:00, 229335.70it/s]\n",
      "100%|██████████| 9994850/9994850 [00:43<00:00, 230165.65it/s]\n",
      "100%|██████████| 9994850/9994850 [00:42<00:00, 235427.56it/s]\n",
      "100%|██████████| 9994850/9994850 [00:42<00:00, 237251.67it/s]\n"
     ]
    }
   ],
   "source": [
    "# find time spent holding each pokemon\n",
    "all_poke_ids = {}\n",
    "for df in dfs:\n",
    "    for step in tqdm(df['ptypes']):\n",
    "        pokes = json.loads(step)\n",
    "        for p in pokes:\n",
    "            if p in all_poke_ids.keys():\n",
    "                all_poke_ids[p] += 1\n",
    "            else:\n",
    "                all_poke_ids[p] = 1"
   ]
  },
  {
   "cell_type": "code",
   "execution_count": 263,
   "metadata": {},
   "outputs": [
    {
     "data": {
      "text/plain": [
       "{177: 37600592,\n",
       " 255: 49327310,\n",
       " 0: 95664853,\n",
       " 165: 39991280,\n",
       " 36: 54695513,\n",
       " 179: 12356844,\n",
       " 150: 676610,\n",
       " 112: 561622,\n",
       " 113: 209597,\n",
       " 133: 8317692,\n",
       " 169: 121749,\n",
       " 107: 204188,\n",
       " 109: 53943,\n",
       " 100: 2672,\n",
       " 84: 40934,\n",
       " 124: 11724,\n",
       " 4: 8377}"
      ]
     },
     "execution_count": 263,
     "metadata": {},
     "output_type": "execute_result"
    }
   ],
   "source": [
    "all_poke_ids"
   ]
  },
  {
   "cell_type": "code",
   "execution_count": 260,
   "metadata": {},
   "outputs": [
    {
     "data": {
      "text/plain": [
       "{177: 7628520,\n",
       " 255: 9904852,\n",
       " 0: 19292595,\n",
       " 165: 7904615,\n",
       " 36: 10716363,\n",
       " 179: 2365574,\n",
       " 150: 195766,\n",
       " 112: 160814,\n",
       " 113: 40083,\n",
       " 133: 1671592,\n",
       " 169: 17784,\n",
       " 107: 69533,\n",
       " 109: 1009}"
      ]
     },
     "execution_count": 260,
     "metadata": {},
     "output_type": "execute_result"
    }
   ],
   "source": [
    "all_poke_ids"
   ]
  },
  {
   "cell_type": "code",
   "execution_count": 331,
   "metadata": {},
   "outputs": [
    {
     "data": {
      "text/plain": [
       "<matplotlib.image.AxesImage at 0x7fb595fe68e0>"
      ]
     },
     "execution_count": 331,
     "metadata": {},
     "output_type": "execute_result"
    },
    {
     "data": {
      "image/png": "[encoded data removed]",
      "text/plain": [
       "<Figure size 432x288 with 1 Axes>"
      ]
     },
     "metadata": {
      "needs_background": "light"
     },
     "output_type": "display_data"
    }
   ],
   "source": [
    "plt.imshow(walks[0]+walks[2])"
   ]
  },
  {
   "cell_type": "code",
   "execution_count": 343,
   "metadata": {},
   "outputs": [],
   "source": [
    "cop = walks[1].copy()\n",
    "mask = walks[2][:, :, 3] != 0\n",
    "cop[mask] = walks[2][mask]"
   ]
  },
  {
   "cell_type": "code",
   "execution_count": 344,
   "metadata": {},
   "outputs": [
    {
     "data": {
      "text/plain": [
       "<matplotlib.image.AxesImage at 0x7fb5afbdc340>"
      ]
     },
     "execution_count": 344,
     "metadata": {},
     "output_type": "execute_result"
    },
    {
     "data": {
      "image/png": "[encoded data removed]",
      "text/plain": [
       "<Figure size 432x288 with 1 Axes>"
      ]
     },
     "metadata": {
      "needs_background": "light"
     },
     "output_type": "display_data"
    }
   ],
   "source": [
    "plt.imshow(cop)"
   ]
  },
  {
   "cell_type": "code",
   "execution_count": 345,
   "metadata": {},
   "outputs": [
    {
     "data": {
      "text/plain": [
       "<matplotlib.image.AxesImage at 0x7fb595cdca90>"
      ]
     },
     "execution_count": 345,
     "metadata": {},
     "output_type": "execute_result"
    },
    {
     "data": {
      "image/png": "[encoded data removed]",
      "text/plain": [
       "<Figure size 432x288 with 1 Axes>"
      ]
     },
     "metadata": {
      "needs_background": "light"
     },
     "output_type": "display_data"
    }
   ],
   "source": [
    "plt.imshow(walks[2])"
   ]
  },
  {
   "cell_type": "code",
   "execution_count": 350,
   "metadata": {},
   "outputs": [
    {
     "data": {
      "text/plain": [
       "(138, 4)"
      ]
     },
     "execution_count": 350,
     "metadata": {},
     "output_type": "execute_result"
    }
   ],
   "source": [
    "walks[2][mask].shape"
   ]
  },
  {
   "cell_type": "code",
   "execution_count": null,
   "metadata": {},
   "outputs": [],
   "source": []
  }
 ],
 "metadata": {
  "kernelspec": {
   "display_name": "Python 3",
   "language": "python",
   "name": "python3"
  },
  "language_info": {
   "codemirror_mode": {
    "name": "ipython",
    "version": 3
   },
   "file_extension": ".py",
   "mimetype": "text/x-python",
   "name": "python",
   "nbconvert_exporter": "python",
   "pygments_lexer": "ipython3",
   "version": "3.9.0"
  }
 },
 "nbformat": 4,
 "nbformat_minor": 4
}
