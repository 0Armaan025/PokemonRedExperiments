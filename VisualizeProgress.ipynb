{
 "cells": [
  {
   "cell_type": "code",
   "execution_count": 1,
   "metadata": {},
   "outputs": [],
   "source": [
    "import numpy as np\n",
    "import matplotlib.pyplot as plt\n",
    "import matplotlib.cm as mplcm\n",
    "import matplotlib.colors as colors\n",
    "import json\n",
    "from pathlib import Path\n",
    "from sklearn import linear_model"
   ]
  },
  {
   "cell_type": "code",
   "execution_count": 11,
   "metadata": {
    "scrolled": true
   },
   "outputs": [
    {
     "name": "stdout",
     "output_type": "stream",
     "text": [
      "best_12-7\t\t\t  red_gym_env.py\t    run_baseline.py\r\n",
      "grinds_to_level_11_extra_time_14  requirements.txt\t    session_eb0108d3\r\n",
      "__pycache__\t\t\t  run_baseline_parallel.py  session_fe9ae9f0\r\n"
     ]
    }
   ],
   "source": [
    "!ls baselines"
   ]
  },
  {
   "cell_type": "code",
   "execution_count": 7,
   "metadata": {},
   "outputs": [],
   "source": [
    "def load_run_data(run_path):\n",
    "    run_lists = []\n",
    "    for p in Path(run_path).glob('all_runs_*.json'):\n",
    "        with open(p, 'r') as f:\n",
    "            run_lists.append(json.load(f))\n",
    "    all_runs = [val for tup in zip(*run_lists) for val in tup]\n",
    "    print(f'runs loaded: {len(all_runs)}')\n",
    "    return all_runs"
   ]
  },
  {
   "cell_type": "code",
   "execution_count": 46,
   "metadata": {},
   "outputs": [],
   "source": [
    "def plot_runs(all_runs, plot_line=False, use_keys=None, start=0, group_runs=1):\n",
    "    \n",
    "    all_runs = all_runs[start:]\n",
    "    x = np.arange(len(all_runs)//group_runs)\n",
    "    \n",
    "    def add_plot(y, name, alpha, size, plot_line):\n",
    "        plt.scatter(x, y, alpha=alpha, s=size, label=name)\n",
    "        if plot_line:\n",
    "            regr = linear_model.LinearRegression()\n",
    "            # Optimize linear model\n",
    "            regr.fit(x.reshape(-1, 1), y.reshape(-1, 1))\n",
    "\n",
    "            # Make predictions using the testing set\n",
    "            lin_y = regr.predict(x.reshape(-1, 1))\n",
    "            plt.plot(x, lin_y, linewidth=3)\n",
    "        \n",
    "    # convert list of dictionaries to dictionary of lists\n",
    "    metrics = {m: [run[m] for run in all_runs] for m in all_runs[0].keys()}\n",
    "    metrics['total'] = [sum([v for _,v in run.items()]) for run in all_runs]\n",
    "    if group_runs:\n",
    "        for m, dat in metrics.items():\n",
    "            metrics[m] = np.array(dat).reshape(-1, group_runs).mean(1)\n",
    "    available_keys = metrics.keys()\n",
    "    print(f'available metrics: {list(available_keys)}')\n",
    "    if use_keys is None:\n",
    "        use_keys = available_keys\n",
    "    \n",
    "    ## TODO subplot for each metric ## \n",
    "    NUM_COLORS = len(use_keys)\n",
    "    cm = plt.get_cmap('Dark2')\n",
    "    cNorm  = colors.Normalize(vmin=0, vmax=NUM_COLORS-1)\n",
    "    scalarMap = mplcm.ScalarMappable(norm=cNorm, cmap=cm)\n",
    "    fig = plt.figure()\n",
    "    ax = fig.add_subplot(111)\n",
    "    ax.set_prop_cycle(color=[scalarMap.to_rgba(i) for i in range(NUM_COLORS)])\n",
    "\n",
    "    for i, m in enumerate(use_keys):\n",
    "        add_plot(\n",
    "            np.array(metrics[m]), m, 1.0, 15.0, plot_line\n",
    "        )\n",
    "        \n",
    "    plt.title('Reward over runs PPO')\n",
    "    plt.legend(bbox_to_anchor=(1.04,0.5), loc=\"center left\", borderaxespad=0)\n",
    "    plt.show()"
   ]
  },
  {
   "cell_type": "code",
   "execution_count": 47,
   "metadata": {},
   "outputs": [
    {
     "name": "stdout",
     "output_type": "stream",
     "text": [
      "runs loaded: 192\n",
      "available metrics: ['events', 'seen_poke', 'party_xp', 'levels', 'explore', 'total']\n"
     ]
    },
    {
     "data": {
      "image/png": "[encoded data removed]",
      "text/plain": [
       "<Figure size 432x288 with 1 Axes>"
      ]
     },
     "metadata": {
      "needs_background": "light"
     },
     "output_type": "display_data"
    }
   ],
   "source": [
    "plot_runs(\n",
    "    load_run_data('baselines/session_eb0108d3'), \n",
    "    use_keys=None, \n",
    "    plot_line=False,\n",
    "    start=0,\n",
    "    group_runs=64\n",
    ")\n"
   ]
  },
  {
   "cell_type": "code",
   "execution_count": null,
   "metadata": {},
   "outputs": [],
   "source": []
  },
  {
   "cell_type": "code",
   "execution_count": null,
   "metadata": {},
   "outputs": [],
   "source": []
  },
  {
   "cell_type": "code",
   "execution_count": null,
   "metadata": {},
   "outputs": [],
   "source": []
  },
  {
   "cell_type": "code",
   "execution_count": null,
   "metadata": {},
   "outputs": [],
   "source": []
  }
 ],
 "metadata": {
  "kernelspec": {
   "display_name": "Python 3 (ipykernel)",
   "language": "python",
   "name": "python3"
  },
  "language_info": {
   "codemirror_mode": {
    "name": "ipython",
    "version": 3
   },
   "file_extension": ".py",
   "mimetype": "text/x-python",
   "name": "python",
   "nbconvert_exporter": "python",
   "pygments_lexer": "ipython3",
   "version": "3.9.4"
  }
 },
 "nbformat": 4,
 "nbformat_minor": 4
}
